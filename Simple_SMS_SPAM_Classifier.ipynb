{
 "cells": [
  {
   "cell_type": "markdown",
   "metadata": {},
   "source": [
    "# Simple SMS Spam Classifier"
   ]
  },
  {
   "cell_type": "markdown",
   "metadata": {},
   "source": [
    "Link to the dataset I've used: https://www.kaggle.com/uciml/sms-spam-collection-dataset/data"
   ]
  },
  {
   "cell_type": "code",
   "execution_count": 110,
   "metadata": {
    "collapsed": false,
    "scrolled": true
   },
   "outputs": [
    {
     "name": "stdout",
     "output_type": "stream",
     "text": [
      "CV f1-score (10 folds): 0.932791644618\n"
     ]
    }
   ],
   "source": [
    "from sklearn.feature_extraction.text import CountVectorizer\n",
    "from sklearn.cross_validation import cross_val_score, train_test_split\n",
    "from sklearn.metrics import confusion_matrix\n",
    "import xgboost as xgb\n",
    "import numpy as np\n",
    "import pandas as pd\n",
    "import matplotlib.pyplot as plt\n",
    "import itertools\n",
    "%matplotlib inline\n",
    "\n",
    "class SimpleSpamClassifier:\n",
    "    \n",
    "    # Simple Spam Classifier \n",
    "    \n",
    "    def __init__(self, model=LogisticRegression(), random_state=None, verbose=False, show_cv_score=True):\n",
    "        self.random_state = random_state\n",
    "        self.verbose = verbose\n",
    "        self.count_vectorizer = None\n",
    "        self.model = model\n",
    "        self.show_cv_score = show_cv_score\n",
    "\n",
    "    def fit(self, data):\n",
    "        self.count_vectorizer = CountVectorizer()\n",
    "        self.count_vectorizer.fit(list(data['text'].values))\n",
    "        \n",
    "        # sparse matrix in Compressed Sparse Row format\n",
    "        X = self.count_vectorizer.transform(list(data['text'].values))\n",
    "        y = data['is_spam'].values\n",
    "        \n",
    "        if self.show_cv_score:\n",
    "            scores = cross_val_score(self.model, X, y, scoring='f1', cv=10)\n",
    "            print 'CV f1-score (10 folds):', np.mean(scores)\n",
    "        \n",
    "        self.model.fit(X, y)\n",
    "    \n",
    "    def predict(self, data):\n",
    "        return self.model.predict_proba(self.count_vectorizer.transform(list(data['text'].values)))\n",
    "\n",
    "\n",
    "def load_collection(spam_collection_path, sep='\\t'):\n",
    "    sms = pd.read_csv(spam_collection_path, sep=sep, header=None)\n",
    "    sms.columns=['is_spam', 'text']\n",
    "    sms['is_spam'] = (sms['is_spam'] == 'spam').astype(int)\n",
    "    return sms\n",
    "\n",
    "# load spam collection and split it into TRAIN & TEST\n",
    "sms = load_collection('SMSSpamCollection.txt')\n",
    "sms_train, sms_test = train_test_split(sms, test_size=0.2, random_state=1, stratify=sms['is_spam'])\n",
    "\n",
    "# train SpamClassifier model\n",
    "model = SimpleSpamClassifier(show_cv_score=True)\n",
    "model.fit(sms_train)\n",
    "\n",
    "# predict labels\n",
    "pred_df = pd.DataFrame(sms_test)\n",
    "pred_df['pred'] = model.predict(sms_test)[:, 1]"
   ]
  },
  {
   "cell_type": "code",
   "execution_count": 111,
   "metadata": {
    "collapsed": false
   },
   "outputs": [
    {
     "data": {
      "text/html": [
       "<div>\n",
       "<table border=\"1\" class=\"dataframe\">\n",
       "  <thead>\n",
       "    <tr style=\"text-align: right;\">\n",
       "      <th></th>\n",
       "      <th>is_spam</th>\n",
       "      <th>text</th>\n",
       "      <th>pred</th>\n",
       "    </tr>\n",
       "  </thead>\n",
       "  <tbody>\n",
       "    <tr>\n",
       "      <th>2871</th>\n",
       "      <td>1</td>\n",
       "      <td>YOUR CHANCE TO BE ON A REALITY FANTASY SHOW ca...</td>\n",
       "      <td>0.999329</td>\n",
       "    </tr>\n",
       "    <tr>\n",
       "      <th>1628</th>\n",
       "      <td>1</td>\n",
       "      <td>You have been selected to stay in 1 of 250 top...</td>\n",
       "      <td>0.977639</td>\n",
       "    </tr>\n",
       "    <tr>\n",
       "      <th>5004</th>\n",
       "      <td>1</td>\n",
       "      <td>CDs 4u: Congratulations ur awarded £500 of CD ...</td>\n",
       "      <td>0.891161</td>\n",
       "    </tr>\n",
       "    <tr>\n",
       "      <th>3742</th>\n",
       "      <td>1</td>\n",
       "      <td>2/2 146tf150p</td>\n",
       "      <td>0.010315</td>\n",
       "    </tr>\n",
       "    <tr>\n",
       "      <th>4914</th>\n",
       "      <td>1</td>\n",
       "      <td>Goal! Arsenal 4 (Henry, 7 v Liverpool 2 Henry ...</td>\n",
       "      <td>0.378288</td>\n",
       "    </tr>\n",
       "  </tbody>\n",
       "</table>\n",
       "</div>"
      ],
      "text/plain": [
       "      is_spam                                               text      pred\n",
       "2871        1  YOUR CHANCE TO BE ON A REALITY FANTASY SHOW ca...  0.999329\n",
       "1628        1  You have been selected to stay in 1 of 250 top...  0.977639\n",
       "5004        1  CDs 4u: Congratulations ur awarded £500 of CD ...  0.891161\n",
       "3742        1                                      2/2 146tf150p  0.010315\n",
       "4914        1  Goal! Arsenal 4 (Henry, 7 v Liverpool 2 Henry ...  0.378288"
      ]
     },
     "execution_count": 111,
     "metadata": {},
     "output_type": "execute_result"
    }
   ],
   "source": [
    "pred_df[pred_df.is_spam==1].head()"
   ]
  },
  {
   "cell_type": "markdown",
   "metadata": {},
   "source": [
    "# Some examples of correctly classified SPAM objects"
   ]
  },
  {
   "cell_type": "code",
   "execution_count": 112,
   "metadata": {
    "collapsed": false,
    "scrolled": true
   },
   "outputs": [
    {
     "name": "stdout",
     "output_type": "stream",
     "text": [
      "YOUR CHANCE TO BE ON A REALITY FANTASY SHOW call now = 08707509020 Just 20p per min NTT Ltd, PO Box 1327 Croydon CR9 5WB 0870 is a national = rate call.\n",
      "--------------------------------------------------\n",
      "You have been selected to stay in 1 of 250 top British hotels - FOR NOTHING! Holiday Worth £350! To Claim, Call London 02072069400. Bx 526, SW73SS\n",
      "--------------------------------------------------\n",
      "CDs 4u: Congratulations ur awarded £500 of CD gift vouchers or £125 gift guaranteed & Freeentry 2 £100 wkly draw xt MUSIC to 87066 TnCs www.ldew.com1win150ppmx3age16 \n",
      "--------------------------------------------------\n",
      "FREE2DAY sexy St George's Day pic of Jordan!Txt PIC to 89080 dont miss out, then every wk a saucy celeb!4 more pics c PocketBabe.co.uk 0870241182716 £3/wk\n",
      "--------------------------------------------------\n",
      "Congrats! 1 year special cinema pass for 2 is yours. call 09061209465 now! C Suprman V, Matrix3, StarWars3, etc all 4 FREE! bx420-ip4-5we. 150pm. Dont miss out!\n",
      "--------------------------------------------------\n"
     ]
    }
   ],
   "source": [
    "for j in range(5):\n",
    "    print pred_df[(pred_df['pred'] >= 0.5) & (pred_df['is_spam'] == 1)].iloc[j]['text']\n",
    "    print '-'*50"
   ]
  },
  {
   "cell_type": "markdown",
   "metadata": {},
   "source": [
    "# Some examples of correctly classified 'HAM' objects"
   ]
  },
  {
   "cell_type": "code",
   "execution_count": 113,
   "metadata": {
    "collapsed": false
   },
   "outputs": [
    {
     "name": "stdout",
     "output_type": "stream",
     "text": [
      "Ok i shall talk to him\n",
      "--------------------------------------------------\n",
      "Eatin my lunch...\n",
      "--------------------------------------------------\n",
      "Sir, Waiting for your mail.\n",
      "--------------------------------------------------\n",
      "Wif my family booking tour package.\n",
      "--------------------------------------------------\n",
      "No. It's not pride. I'm almost  &lt;#&gt;  years old and shouldn't be takin money from my kid. You're not supposed to have to deal with this stuff. This is grownup stuff--why i don't tell you.\n",
      "--------------------------------------------------\n"
     ]
    }
   ],
   "source": [
    "for j in range(5):\n",
    "    print pred_df[(pred_df['pred'] < 0.5) & (pred_df['is_spam'] == 0)].iloc[j]['text']\n",
    "    print '-'*50"
   ]
  },
  {
   "cell_type": "markdown",
   "metadata": {},
   "source": [
    "# Some examples of False Negatives"
   ]
  },
  {
   "cell_type": "code",
   "execution_count": 114,
   "metadata": {
    "collapsed": false
   },
   "outputs": [
    {
     "name": "stdout",
     "output_type": "stream",
     "text": [
      "2/2 146tf150p\n",
      "--------------------------------------------------\n",
      "Goal! Arsenal 4 (Henry, 7 v Liverpool 2 Henry scores with a simple shot from 6 yards from a pass by Bergkamp to give Arsenal a 2 goal margin after 78 mins.\n",
      "--------------------------------------------------\n",
      "Missed call alert. These numbers called but left no message. 07008009200\n",
      "--------------------------------------------------\n",
      "You have an important customer service announcement from PREMIER.\n",
      "--------------------------------------------------\n",
      "Welcome! Please reply with your AGE and GENDER to begin. e.g 24M\n",
      "--------------------------------------------------\n"
     ]
    }
   ],
   "source": [
    "for j in range(5):\n",
    "    print pred_df[(pred_df['pred'] < 0.5) & (pred_df['is_spam'] == 1)].iloc[j]['text']\n",
    "    print '-'*50"
   ]
  },
  {
   "cell_type": "markdown",
   "metadata": {},
   "source": [
    "# Confusion matrix"
   ]
  },
  {
   "cell_type": "code",
   "execution_count": 115,
   "metadata": {
    "collapsed": false
   },
   "outputs": [
    {
     "data": {
      "image/png": "[encoded data removed]",
      "text/plain": [
       "<matplotlib.figure.Figure at 0xb905a58>"
      ]
     },
     "metadata": {},
     "output_type": "display_data"
    }
   ],
   "source": [
    "def show_confusion_matrix(y_true, y_pred):\n",
    "    \n",
    "    cm = confusion_matrix(y_true, (y_pred >= 0.5).astype(int))\n",
    "\n",
    "    plt.imshow(cm, interpolation='nearest', cmap=plt.cm.Blues)\n",
    "    plt.title('Confusion matrix')\n",
    "    plt.colorbar()\n",
    "    tick_marks = np.arange(2)\n",
    "    plt.xticks(tick_marks, ['ham', 'SPAM'] , rotation=45)\n",
    "    plt.yticks(tick_marks, ['ham', 'SPAM'])\n",
    "    fmt = 'd'\n",
    "    thresh = cm.max() / 2.\n",
    "    for i, j in itertools.product(range(cm.shape[0]), range(cm.shape[1])):\n",
    "        plt.text(j, i, format(cm[i, j], fmt),\n",
    "                 horizontalalignment=\"center\",\n",
    "                 color=\"white\" if cm[i, j] > thresh else \"black\")\n",
    "\n",
    "    plt.tight_layout()\n",
    "    plt.ylabel('True label')\n",
    "    plt.xlabel('Predicted label')\n",
    "\n",
    "    plt.show()\n",
    "    \n",
    "show_confusion_matrix(pred_df['is_spam'], pred_df['pred'])"
   ]
  }
 ],
 "metadata": {
  "anaconda-cloud": {},
  "kernelspec": {
   "display_name": "Python [Root]",
   "language": "python",
   "name": "Python [Root]"
  },
  "language_info": {
   "codemirror_mode": {
    "name": "ipython",
    "version": 2
   },
   "file_extension": ".py",
   "mimetype": "text/x-python",
   "name": "python",
   "nbconvert_exporter": "python",
   "pygments_lexer": "ipython2",
   "version": "2.7.12"
  }
 },
 "nbformat": 4,
 "nbformat_minor": 0
}
